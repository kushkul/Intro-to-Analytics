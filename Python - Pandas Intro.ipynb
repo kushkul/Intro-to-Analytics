{
 "cells": [
  {
   "cell_type": "markdown",
   "metadata": {},
   "source": [
    "# Pandas Basics"
   ]
  },
  {
   "cell_type": "markdown",
   "metadata": {},
   "source": [
    "**Importing the packages **"
   ]
  },
  {
   "cell_type": "code",
   "execution_count": 1,
   "metadata": {},
   "outputs": [],
   "source": [
    "import pandas as pd\n",
    "import numpy as np\n",
    "import matplotlib.pyplot as plt"
   ]
  },
  {
   "cell_type": "markdown",
   "metadata": {},
   "source": [
    "**Creating a dataframe **"
   ]
  },
  {
   "cell_type": "code",
   "execution_count": 2,
   "metadata": {
    "scrolled": true
   },
   "outputs": [
    {
     "name": "stdout",
     "output_type": "stream",
     "text": [
      "[[0.66297255 0.71948627 0.4367043  0.21628206]\n",
      " [0.50449614 0.52872887 0.07554441 0.87472023]\n",
      " [0.63687629 0.58754778 0.07794952 0.66068495]\n",
      " [0.98452497 0.7116925  0.45932897 0.19342964]\n",
      " [0.07984338 0.79165499 0.5697473  0.79939392]\n",
      " [0.04524926 0.82168396 0.2989317  0.69270503]\n",
      " [0.954651   0.63255286 0.88304378 0.2730407 ]\n",
      " [0.75204776 0.02574816 0.72709243 0.00295502]\n",
      " [0.32177814 0.49835836 0.43033048 0.05792264]\n",
      " [0.72666345 0.58547874 0.8759525  0.17231654]]\n"
     ]
    }
   ],
   "source": [
    "print(np.random.rand(10,4))"
   ]
  },
  {
   "cell_type": "code",
   "execution_count": 2,
   "metadata": {},
   "outputs": [
    {
     "name": "stdout",
     "output_type": "stream",
     "text": [
      "          A         B         C         D\n",
      "0  0.148710  0.255946  0.507216  0.679305\n",
      "1  0.884613  0.366173  0.403009  0.059076\n",
      "2  0.190153  0.379428  0.606521  0.670061\n",
      "3  0.813650  0.865682  0.005590  0.833786\n",
      "4  0.797834  0.530511  0.894112  0.368181\n",
      "5  0.180576  0.837625  0.085812  0.325849\n",
      "6  0.099598  0.170077  0.896005  0.045636\n",
      "7  0.143263  0.313568  0.902985  0.922671\n",
      "8  0.665560  0.226335  0.702292  0.288820\n",
      "9  0.560362  0.277237  0.506622  0.193656\n"
     ]
    }
   ],
   "source": [
    "df=pd.DataFrame(np.random.rand(10,4), columns=['A','B','C','D'])\n",
    "print(df)"
   ]
  },
  {
   "cell_type": "code",
   "execution_count": 3,
   "metadata": {},
   "outputs": [
    {
     "data": {
      "text/plain": [
       "Index(['A', 'B', 'C', 'D'], dtype='object')"
      ]
     },
     "execution_count": 3,
     "metadata": {},
     "output_type": "execute_result"
    }
   ],
   "source": [
    "df.columns"
   ]
  },
  {
   "cell_type": "markdown",
   "metadata": {},
   "source": [
    "**Creating a dataframe with dictionary **"
   ]
  },
  {
   "cell_type": "code",
   "execution_count": 4,
   "metadata": {},
   "outputs": [
    {
     "name": "stdout",
     "output_type": "stream",
     "text": [
      "    A    B   C   D\n",
      "0  10   20  30  40\n",
      "1  20  100  40  50\n"
     ]
    }
   ],
   "source": [
    "dict1 = {'A' : [10,20],'B' : [20,100],'C' : [30,40],'D' : [40,50]}\n",
    "df2 = pd.DataFrame(dict1)\n",
    "print(df2)"
   ]
  },
  {
   "cell_type": "markdown",
   "metadata": {},
   "source": [
    "**Looking at the variable types **"
   ]
  },
  {
   "cell_type": "code",
   "execution_count": 5,
   "metadata": {},
   "outputs": [
    {
     "data": {
      "text/plain": [
       "A    int64\n",
       "B    int64\n",
       "C    int64\n",
       "D    int64\n",
       "dtype: object"
      ]
     },
     "execution_count": 5,
     "metadata": {},
     "output_type": "execute_result"
    }
   ],
   "source": [
    "df2.dtypes"
   ]
  },
  {
   "cell_type": "markdown",
   "metadata": {},
   "source": [
    "**looking at the top few values, default 5 **"
   ]
  },
  {
   "cell_type": "code",
   "execution_count": 11,
   "metadata": {},
   "outputs": [
    {
     "data": {
      "text/html": [
       "<div>\n",
       "<style scoped>\n",
       "    .dataframe tbody tr th:only-of-type {\n",
       "        vertical-align: middle;\n",
       "    }\n",
       "\n",
       "    .dataframe tbody tr th {\n",
       "        vertical-align: top;\n",
       "    }\n",
       "\n",
       "    .dataframe thead th {\n",
       "        text-align: right;\n",
       "    }\n",
       "</style>\n",
       "<table border=\"1\" class=\"dataframe\">\n",
       "  <thead>\n",
       "    <tr style=\"text-align: right;\">\n",
       "      <th></th>\n",
       "      <th>A</th>\n",
       "      <th>B</th>\n",
       "      <th>C</th>\n",
       "      <th>D</th>\n",
       "    </tr>\n",
       "  </thead>\n",
       "  <tbody>\n",
       "    <tr>\n",
       "      <th>0</th>\n",
       "      <td>0.794220</td>\n",
       "      <td>0.268694</td>\n",
       "      <td>0.556035</td>\n",
       "      <td>0.486056</td>\n",
       "    </tr>\n",
       "    <tr>\n",
       "      <th>1</th>\n",
       "      <td>0.991745</td>\n",
       "      <td>0.032538</td>\n",
       "      <td>0.959418</td>\n",
       "      <td>0.571117</td>\n",
       "    </tr>\n",
       "    <tr>\n",
       "      <th>2</th>\n",
       "      <td>0.173675</td>\n",
       "      <td>0.251969</td>\n",
       "      <td>0.698630</td>\n",
       "      <td>0.314125</td>\n",
       "    </tr>\n",
       "    <tr>\n",
       "      <th>3</th>\n",
       "      <td>0.515330</td>\n",
       "      <td>0.743632</td>\n",
       "      <td>0.975673</td>\n",
       "      <td>0.908048</td>\n",
       "    </tr>\n",
       "    <tr>\n",
       "      <th>4</th>\n",
       "      <td>0.789374</td>\n",
       "      <td>0.921929</td>\n",
       "      <td>0.135428</td>\n",
       "      <td>0.624495</td>\n",
       "    </tr>\n",
       "  </tbody>\n",
       "</table>\n",
       "</div>"
      ],
      "text/plain": [
       "          A         B         C         D\n",
       "0  0.794220  0.268694  0.556035  0.486056\n",
       "1  0.991745  0.032538  0.959418  0.571117\n",
       "2  0.173675  0.251969  0.698630  0.314125\n",
       "3  0.515330  0.743632  0.975673  0.908048\n",
       "4  0.789374  0.921929  0.135428  0.624495"
      ]
     },
     "execution_count": 11,
     "metadata": {},
     "output_type": "execute_result"
    }
   ],
   "source": [
    "df.head()"
   ]
  },
  {
   "cell_type": "markdown",
   "metadata": {},
   "source": [
    "**Looking at the last few values **"
   ]
  },
  {
   "cell_type": "code",
   "execution_count": 12,
   "metadata": {},
   "outputs": [
    {
     "data": {
      "text/html": [
       "<div>\n",
       "<style scoped>\n",
       "    .dataframe tbody tr th:only-of-type {\n",
       "        vertical-align: middle;\n",
       "    }\n",
       "\n",
       "    .dataframe tbody tr th {\n",
       "        vertical-align: top;\n",
       "    }\n",
       "\n",
       "    .dataframe thead th {\n",
       "        text-align: right;\n",
       "    }\n",
       "</style>\n",
       "<table border=\"1\" class=\"dataframe\">\n",
       "  <thead>\n",
       "    <tr style=\"text-align: right;\">\n",
       "      <th></th>\n",
       "      <th>A</th>\n",
       "      <th>B</th>\n",
       "      <th>C</th>\n",
       "      <th>D</th>\n",
       "    </tr>\n",
       "  </thead>\n",
       "  <tbody>\n",
       "    <tr>\n",
       "      <th>5</th>\n",
       "      <td>0.273274</td>\n",
       "      <td>0.739538</td>\n",
       "      <td>0.580346</td>\n",
       "      <td>0.091695</td>\n",
       "    </tr>\n",
       "    <tr>\n",
       "      <th>6</th>\n",
       "      <td>0.770175</td>\n",
       "      <td>0.097964</td>\n",
       "      <td>0.608022</td>\n",
       "      <td>0.929186</td>\n",
       "    </tr>\n",
       "    <tr>\n",
       "      <th>7</th>\n",
       "      <td>0.243849</td>\n",
       "      <td>0.083821</td>\n",
       "      <td>0.258348</td>\n",
       "      <td>0.379204</td>\n",
       "    </tr>\n",
       "    <tr>\n",
       "      <th>8</th>\n",
       "      <td>0.478665</td>\n",
       "      <td>0.901917</td>\n",
       "      <td>0.649005</td>\n",
       "      <td>0.218910</td>\n",
       "    </tr>\n",
       "    <tr>\n",
       "      <th>9</th>\n",
       "      <td>0.793143</td>\n",
       "      <td>0.298037</td>\n",
       "      <td>0.897777</td>\n",
       "      <td>0.835582</td>\n",
       "    </tr>\n",
       "  </tbody>\n",
       "</table>\n",
       "</div>"
      ],
      "text/plain": [
       "          A         B         C         D\n",
       "5  0.273274  0.739538  0.580346  0.091695\n",
       "6  0.770175  0.097964  0.608022  0.929186\n",
       "7  0.243849  0.083821  0.258348  0.379204\n",
       "8  0.478665  0.901917  0.649005  0.218910\n",
       "9  0.793143  0.298037  0.897777  0.835582"
      ]
     },
     "execution_count": 12,
     "metadata": {},
     "output_type": "execute_result"
    }
   ],
   "source": [
    "df.tail()"
   ]
  },
  {
   "cell_type": "markdown",
   "metadata": {},
   "source": [
    "**To get the indexes **\n"
   ]
  },
  {
   "cell_type": "code",
   "execution_count": 13,
   "metadata": {},
   "outputs": [
    {
     "data": {
      "text/plain": [
       "RangeIndex(start=0, stop=10, step=1)"
      ]
     },
     "execution_count": 13,
     "metadata": {},
     "output_type": "execute_result"
    }
   ],
   "source": [
    "#print(df)\n",
    "df.index"
   ]
  },
  {
   "cell_type": "markdown",
   "metadata": {},
   "source": [
    "**To get the column names **"
   ]
  },
  {
   "cell_type": "code",
   "execution_count": 11,
   "metadata": {},
   "outputs": [
    {
     "data": {
      "text/plain": [
       "Index(['A', 'B', 'C', 'D'], dtype='object')"
      ]
     },
     "execution_count": 11,
     "metadata": {},
     "output_type": "execute_result"
    }
   ],
   "source": [
    "df.columns"
   ]
  },
  {
   "cell_type": "code",
   "execution_count": 7,
   "metadata": {},
   "outputs": [
    {
     "data": {
      "text/plain": [
       "True"
      ]
     },
     "execution_count": 7,
     "metadata": {},
     "output_type": "execute_result"
    }
   ],
   "source": [
    "hasattr(df, 'A')"
   ]
  },
  {
   "cell_type": "markdown",
   "metadata": {},
   "source": [
    "**To get the values **"
   ]
  },
  {
   "cell_type": "code",
   "execution_count": 16,
   "metadata": {},
   "outputs": [
    {
     "data": {
      "text/plain": [
       "array([[0.44270573, 0.4900834 , 0.6035361 , 0.43847876],\n",
       "       [0.91464434, 0.70835844, 0.5611243 , 0.09116765],\n",
       "       [0.62600018, 0.08533913, 0.68724173, 0.60111961],\n",
       "       [0.35172865, 0.10541037, 0.92368395, 0.9330255 ],\n",
       "       [0.93856373, 0.11712047, 0.51051402, 0.44075515],\n",
       "       [0.44392989, 0.57688616, 0.65854799, 0.63839185],\n",
       "       [0.82701844, 0.27447895, 0.80715525, 0.87586444],\n",
       "       [0.4631822 , 0.99257977, 0.71516306, 0.08324801],\n",
       "       [0.08139382, 0.29432629, 0.13518423, 0.99712372],\n",
       "       [0.93046533, 0.62038728, 0.98596062, 0.4397428 ]])"
      ]
     },
     "execution_count": 16,
     "metadata": {},
     "output_type": "execute_result"
    }
   ],
   "source": [
    "df.values"
   ]
  },
  {
   "cell_type": "markdown",
   "metadata": {},
   "source": [
    "**To get quick statistics about the data **"
   ]
  },
  {
   "cell_type": "code",
   "execution_count": 17,
   "metadata": {},
   "outputs": [
    {
     "data": {
      "text/html": [
       "<div>\n",
       "<style scoped>\n",
       "    .dataframe tbody tr th:only-of-type {\n",
       "        vertical-align: middle;\n",
       "    }\n",
       "\n",
       "    .dataframe tbody tr th {\n",
       "        vertical-align: top;\n",
       "    }\n",
       "\n",
       "    .dataframe thead th {\n",
       "        text-align: right;\n",
       "    }\n",
       "</style>\n",
       "<table border=\"1\" class=\"dataframe\">\n",
       "  <thead>\n",
       "    <tr style=\"text-align: right;\">\n",
       "      <th></th>\n",
       "      <th>A</th>\n",
       "      <th>B</th>\n",
       "      <th>C</th>\n",
       "      <th>D</th>\n",
       "    </tr>\n",
       "  </thead>\n",
       "  <tbody>\n",
       "    <tr>\n",
       "      <th>count</th>\n",
       "      <td>10.000000</td>\n",
       "      <td>10.000000</td>\n",
       "      <td>10.000000</td>\n",
       "      <td>10.000000</td>\n",
       "    </tr>\n",
       "    <tr>\n",
       "      <th>mean</th>\n",
       "      <td>0.601963</td>\n",
       "      <td>0.426497</td>\n",
       "      <td>0.658811</td>\n",
       "      <td>0.553892</td>\n",
       "    </tr>\n",
       "    <tr>\n",
       "      <th>std</th>\n",
       "      <td>0.293147</td>\n",
       "      <td>0.301833</td>\n",
       "      <td>0.238502</td>\n",
       "      <td>0.321110</td>\n",
       "    </tr>\n",
       "    <tr>\n",
       "      <th>min</th>\n",
       "      <td>0.081394</td>\n",
       "      <td>0.085339</td>\n",
       "      <td>0.135184</td>\n",
       "      <td>0.083248</td>\n",
       "    </tr>\n",
       "    <tr>\n",
       "      <th>25%</th>\n",
       "      <td>0.443012</td>\n",
       "      <td>0.156460</td>\n",
       "      <td>0.571727</td>\n",
       "      <td>0.438795</td>\n",
       "    </tr>\n",
       "    <tr>\n",
       "      <th>50%</th>\n",
       "      <td>0.544591</td>\n",
       "      <td>0.392205</td>\n",
       "      <td>0.672895</td>\n",
       "      <td>0.520937</td>\n",
       "    </tr>\n",
       "    <tr>\n",
       "      <th>75%</th>\n",
       "      <td>0.892738</td>\n",
       "      <td>0.609512</td>\n",
       "      <td>0.784157</td>\n",
       "      <td>0.816496</td>\n",
       "    </tr>\n",
       "    <tr>\n",
       "      <th>max</th>\n",
       "      <td>0.938564</td>\n",
       "      <td>0.992580</td>\n",
       "      <td>0.985961</td>\n",
       "      <td>0.997124</td>\n",
       "    </tr>\n",
       "  </tbody>\n",
       "</table>\n",
       "</div>"
      ],
      "text/plain": [
       "               A          B          C          D\n",
       "count  10.000000  10.000000  10.000000  10.000000\n",
       "mean    0.601963   0.426497   0.658811   0.553892\n",
       "std     0.293147   0.301833   0.238502   0.321110\n",
       "min     0.081394   0.085339   0.135184   0.083248\n",
       "25%     0.443012   0.156460   0.571727   0.438795\n",
       "50%     0.544591   0.392205   0.672895   0.520937\n",
       "75%     0.892738   0.609512   0.784157   0.816496\n",
       "max     0.938564   0.992580   0.985961   0.997124"
      ]
     },
     "execution_count": 17,
     "metadata": {},
     "output_type": "execute_result"
    }
   ],
   "source": [
    "df.describe()"
   ]
  },
  {
   "cell_type": "markdown",
   "metadata": {},
   "source": [
    "**For sorting the index **"
   ]
  },
  {
   "cell_type": "code",
   "execution_count": 21,
   "metadata": {},
   "outputs": [
    {
     "data": {
      "text/html": [
       "<div>\n",
       "<style scoped>\n",
       "    .dataframe tbody tr th:only-of-type {\n",
       "        vertical-align: middle;\n",
       "    }\n",
       "\n",
       "    .dataframe tbody tr th {\n",
       "        vertical-align: top;\n",
       "    }\n",
       "\n",
       "    .dataframe thead th {\n",
       "        text-align: right;\n",
       "    }\n",
       "</style>\n",
       "<table border=\"1\" class=\"dataframe\">\n",
       "  <thead>\n",
       "    <tr style=\"text-align: right;\">\n",
       "      <th></th>\n",
       "      <th>A</th>\n",
       "      <th>B</th>\n",
       "      <th>C</th>\n",
       "      <th>D</th>\n",
       "    </tr>\n",
       "  </thead>\n",
       "  <tbody>\n",
       "    <tr>\n",
       "      <th>9</th>\n",
       "      <td>0.930465</td>\n",
       "      <td>0.620387</td>\n",
       "      <td>0.985961</td>\n",
       "      <td>0.439743</td>\n",
       "    </tr>\n",
       "    <tr>\n",
       "      <th>8</th>\n",
       "      <td>0.081394</td>\n",
       "      <td>0.294326</td>\n",
       "      <td>0.135184</td>\n",
       "      <td>0.997124</td>\n",
       "    </tr>\n",
       "    <tr>\n",
       "      <th>7</th>\n",
       "      <td>0.463182</td>\n",
       "      <td>0.992580</td>\n",
       "      <td>0.715163</td>\n",
       "      <td>0.083248</td>\n",
       "    </tr>\n",
       "    <tr>\n",
       "      <th>6</th>\n",
       "      <td>0.827018</td>\n",
       "      <td>0.274479</td>\n",
       "      <td>0.807155</td>\n",
       "      <td>0.875864</td>\n",
       "    </tr>\n",
       "    <tr>\n",
       "      <th>5</th>\n",
       "      <td>0.443930</td>\n",
       "      <td>0.576886</td>\n",
       "      <td>0.658548</td>\n",
       "      <td>0.638392</td>\n",
       "    </tr>\n",
       "    <tr>\n",
       "      <th>4</th>\n",
       "      <td>0.938564</td>\n",
       "      <td>0.117120</td>\n",
       "      <td>0.510514</td>\n",
       "      <td>0.440755</td>\n",
       "    </tr>\n",
       "    <tr>\n",
       "      <th>3</th>\n",
       "      <td>0.351729</td>\n",
       "      <td>0.105410</td>\n",
       "      <td>0.923684</td>\n",
       "      <td>0.933026</td>\n",
       "    </tr>\n",
       "    <tr>\n",
       "      <th>2</th>\n",
       "      <td>0.626000</td>\n",
       "      <td>0.085339</td>\n",
       "      <td>0.687242</td>\n",
       "      <td>0.601120</td>\n",
       "    </tr>\n",
       "    <tr>\n",
       "      <th>1</th>\n",
       "      <td>0.914644</td>\n",
       "      <td>0.708358</td>\n",
       "      <td>0.561124</td>\n",
       "      <td>0.091168</td>\n",
       "    </tr>\n",
       "    <tr>\n",
       "      <th>0</th>\n",
       "      <td>0.442706</td>\n",
       "      <td>0.490083</td>\n",
       "      <td>0.603536</td>\n",
       "      <td>0.438479</td>\n",
       "    </tr>\n",
       "  </tbody>\n",
       "</table>\n",
       "</div>"
      ],
      "text/plain": [
       "          A         B         C         D\n",
       "9  0.930465  0.620387  0.985961  0.439743\n",
       "8  0.081394  0.294326  0.135184  0.997124\n",
       "7  0.463182  0.992580  0.715163  0.083248\n",
       "6  0.827018  0.274479  0.807155  0.875864\n",
       "5  0.443930  0.576886  0.658548  0.638392\n",
       "4  0.938564  0.117120  0.510514  0.440755\n",
       "3  0.351729  0.105410  0.923684  0.933026\n",
       "2  0.626000  0.085339  0.687242  0.601120\n",
       "1  0.914644  0.708358  0.561124  0.091168\n",
       "0  0.442706  0.490083  0.603536  0.438479"
      ]
     },
     "execution_count": 21,
     "metadata": {},
     "output_type": "execute_result"
    }
   ],
   "source": [
    "df.sort_index(axis=0, ascending=False)"
   ]
  },
  {
   "cell_type": "markdown",
   "metadata": {},
   "source": [
    "**For sorting by a column **"
   ]
  },
  {
   "cell_type": "code",
   "execution_count": 23,
   "metadata": {},
   "outputs": [
    {
     "data": {
      "text/html": [
       "<div>\n",
       "<style scoped>\n",
       "    .dataframe tbody tr th:only-of-type {\n",
       "        vertical-align: middle;\n",
       "    }\n",
       "\n",
       "    .dataframe tbody tr th {\n",
       "        vertical-align: top;\n",
       "    }\n",
       "\n",
       "    .dataframe thead th {\n",
       "        text-align: right;\n",
       "    }\n",
       "</style>\n",
       "<table border=\"1\" class=\"dataframe\">\n",
       "  <thead>\n",
       "    <tr style=\"text-align: right;\">\n",
       "      <th></th>\n",
       "      <th>A</th>\n",
       "      <th>B</th>\n",
       "      <th>C</th>\n",
       "      <th>D</th>\n",
       "    </tr>\n",
       "  </thead>\n",
       "  <tbody>\n",
       "    <tr>\n",
       "      <th>8</th>\n",
       "      <td>0.081394</td>\n",
       "      <td>0.294326</td>\n",
       "      <td>0.135184</td>\n",
       "      <td>0.997124</td>\n",
       "    </tr>\n",
       "    <tr>\n",
       "      <th>3</th>\n",
       "      <td>0.351729</td>\n",
       "      <td>0.105410</td>\n",
       "      <td>0.923684</td>\n",
       "      <td>0.933026</td>\n",
       "    </tr>\n",
       "    <tr>\n",
       "      <th>0</th>\n",
       "      <td>0.442706</td>\n",
       "      <td>0.490083</td>\n",
       "      <td>0.603536</td>\n",
       "      <td>0.438479</td>\n",
       "    </tr>\n",
       "    <tr>\n",
       "      <th>5</th>\n",
       "      <td>0.443930</td>\n",
       "      <td>0.576886</td>\n",
       "      <td>0.658548</td>\n",
       "      <td>0.638392</td>\n",
       "    </tr>\n",
       "    <tr>\n",
       "      <th>7</th>\n",
       "      <td>0.463182</td>\n",
       "      <td>0.992580</td>\n",
       "      <td>0.715163</td>\n",
       "      <td>0.083248</td>\n",
       "    </tr>\n",
       "    <tr>\n",
       "      <th>2</th>\n",
       "      <td>0.626000</td>\n",
       "      <td>0.085339</td>\n",
       "      <td>0.687242</td>\n",
       "      <td>0.601120</td>\n",
       "    </tr>\n",
       "    <tr>\n",
       "      <th>6</th>\n",
       "      <td>0.827018</td>\n",
       "      <td>0.274479</td>\n",
       "      <td>0.807155</td>\n",
       "      <td>0.875864</td>\n",
       "    </tr>\n",
       "    <tr>\n",
       "      <th>1</th>\n",
       "      <td>0.914644</td>\n",
       "      <td>0.708358</td>\n",
       "      <td>0.561124</td>\n",
       "      <td>0.091168</td>\n",
       "    </tr>\n",
       "    <tr>\n",
       "      <th>9</th>\n",
       "      <td>0.930465</td>\n",
       "      <td>0.620387</td>\n",
       "      <td>0.985961</td>\n",
       "      <td>0.439743</td>\n",
       "    </tr>\n",
       "    <tr>\n",
       "      <th>4</th>\n",
       "      <td>0.938564</td>\n",
       "      <td>0.117120</td>\n",
       "      <td>0.510514</td>\n",
       "      <td>0.440755</td>\n",
       "    </tr>\n",
       "  </tbody>\n",
       "</table>\n",
       "</div>"
      ],
      "text/plain": [
       "          A         B         C         D\n",
       "8  0.081394  0.294326  0.135184  0.997124\n",
       "3  0.351729  0.105410  0.923684  0.933026\n",
       "0  0.442706  0.490083  0.603536  0.438479\n",
       "5  0.443930  0.576886  0.658548  0.638392\n",
       "7  0.463182  0.992580  0.715163  0.083248\n",
       "2  0.626000  0.085339  0.687242  0.601120\n",
       "6  0.827018  0.274479  0.807155  0.875864\n",
       "1  0.914644  0.708358  0.561124  0.091168\n",
       "9  0.930465  0.620387  0.985961  0.439743\n",
       "4  0.938564  0.117120  0.510514  0.440755"
      ]
     },
     "execution_count": 23,
     "metadata": {},
     "output_type": "execute_result"
    }
   ],
   "source": [
    "df.sort_values(by='A', ascending = True)"
   ]
  },
  {
   "cell_type": "markdown",
   "metadata": {},
   "source": [
    "## Selecting Values\n"
   ]
  },
  {
   "cell_type": "markdown",
   "metadata": {},
   "source": [
    "**Selecting columns **\n",
    "\n",
    "Note - This is also called a pandas series"
   ]
  },
  {
   "cell_type": "code",
   "execution_count": 25,
   "metadata": {},
   "outputs": [
    {
     "data": {
      "text/plain": [
       "0    0.442706\n",
       "1    0.914644\n",
       "2    0.626000\n",
       "3    0.351729\n",
       "4    0.938564\n",
       "5    0.443930\n",
       "6    0.827018\n",
       "7    0.463182\n",
       "8    0.081394\n",
       "9    0.930465\n",
       "Name: A, dtype: float64"
      ]
     },
     "execution_count": 25,
     "metadata": {},
     "output_type": "execute_result"
    }
   ],
   "source": [
    "df['A']"
   ]
  },
  {
   "cell_type": "code",
   "execution_count": 8,
   "metadata": {},
   "outputs": [
    {
     "data": {
      "text/plain": [
       "pandas.core.series.Series"
      ]
     },
     "execution_count": 8,
     "metadata": {},
     "output_type": "execute_result"
    }
   ],
   "source": [
    "type(df['A'])"
   ]
  },
  {
   "cell_type": "code",
   "execution_count": 28,
   "metadata": {},
   "outputs": [
    {
     "data": {
      "text/html": [
       "<div>\n",
       "<style scoped>\n",
       "    .dataframe tbody tr th:only-of-type {\n",
       "        vertical-align: middle;\n",
       "    }\n",
       "\n",
       "    .dataframe tbody tr th {\n",
       "        vertical-align: top;\n",
       "    }\n",
       "\n",
       "    .dataframe thead th {\n",
       "        text-align: right;\n",
       "    }\n",
       "</style>\n",
       "<table border=\"1\" class=\"dataframe\">\n",
       "  <thead>\n",
       "    <tr style=\"text-align: right;\">\n",
       "      <th></th>\n",
       "      <th>A</th>\n",
       "      <th>B</th>\n",
       "    </tr>\n",
       "  </thead>\n",
       "  <tbody>\n",
       "    <tr>\n",
       "      <th>0</th>\n",
       "      <td>0.442706</td>\n",
       "      <td>0.490083</td>\n",
       "    </tr>\n",
       "    <tr>\n",
       "      <th>1</th>\n",
       "      <td>0.914644</td>\n",
       "      <td>0.708358</td>\n",
       "    </tr>\n",
       "    <tr>\n",
       "      <th>2</th>\n",
       "      <td>0.626000</td>\n",
       "      <td>0.085339</td>\n",
       "    </tr>\n",
       "    <tr>\n",
       "      <th>3</th>\n",
       "      <td>0.351729</td>\n",
       "      <td>0.105410</td>\n",
       "    </tr>\n",
       "    <tr>\n",
       "      <th>4</th>\n",
       "      <td>0.938564</td>\n",
       "      <td>0.117120</td>\n",
       "    </tr>\n",
       "    <tr>\n",
       "      <th>5</th>\n",
       "      <td>0.443930</td>\n",
       "      <td>0.576886</td>\n",
       "    </tr>\n",
       "    <tr>\n",
       "      <th>6</th>\n",
       "      <td>0.827018</td>\n",
       "      <td>0.274479</td>\n",
       "    </tr>\n",
       "    <tr>\n",
       "      <th>7</th>\n",
       "      <td>0.463182</td>\n",
       "      <td>0.992580</td>\n",
       "    </tr>\n",
       "    <tr>\n",
       "      <th>8</th>\n",
       "      <td>0.081394</td>\n",
       "      <td>0.294326</td>\n",
       "    </tr>\n",
       "    <tr>\n",
       "      <th>9</th>\n",
       "      <td>0.930465</td>\n",
       "      <td>0.620387</td>\n",
       "    </tr>\n",
       "  </tbody>\n",
       "</table>\n",
       "</div>"
      ],
      "text/plain": [
       "          A         B\n",
       "0  0.442706  0.490083\n",
       "1  0.914644  0.708358\n",
       "2  0.626000  0.085339\n",
       "3  0.351729  0.105410\n",
       "4  0.938564  0.117120\n",
       "5  0.443930  0.576886\n",
       "6  0.827018  0.274479\n",
       "7  0.463182  0.992580\n",
       "8  0.081394  0.294326\n",
       "9  0.930465  0.620387"
      ]
     },
     "execution_count": 28,
     "metadata": {},
     "output_type": "execute_result"
    }
   ],
   "source": [
    "df[['A','B']]"
   ]
  },
  {
   "cell_type": "markdown",
   "metadata": {},
   "source": [
    "**Selecting range of rows **\n"
   ]
  },
  {
   "cell_type": "code",
   "execution_count": 29,
   "metadata": {},
   "outputs": [
    {
     "data": {
      "text/html": [
       "<div>\n",
       "<style scoped>\n",
       "    .dataframe tbody tr th:only-of-type {\n",
       "        vertical-align: middle;\n",
       "    }\n",
       "\n",
       "    .dataframe tbody tr th {\n",
       "        vertical-align: top;\n",
       "    }\n",
       "\n",
       "    .dataframe thead th {\n",
       "        text-align: right;\n",
       "    }\n",
       "</style>\n",
       "<table border=\"1\" class=\"dataframe\">\n",
       "  <thead>\n",
       "    <tr style=\"text-align: right;\">\n",
       "      <th></th>\n",
       "      <th>A</th>\n",
       "      <th>B</th>\n",
       "      <th>C</th>\n",
       "      <th>D</th>\n",
       "    </tr>\n",
       "  </thead>\n",
       "  <tbody>\n",
       "    <tr>\n",
       "      <th>0</th>\n",
       "      <td>0.442706</td>\n",
       "      <td>0.490083</td>\n",
       "      <td>0.603536</td>\n",
       "      <td>0.438479</td>\n",
       "    </tr>\n",
       "    <tr>\n",
       "      <th>1</th>\n",
       "      <td>0.914644</td>\n",
       "      <td>0.708358</td>\n",
       "      <td>0.561124</td>\n",
       "      <td>0.091168</td>\n",
       "    </tr>\n",
       "    <tr>\n",
       "      <th>2</th>\n",
       "      <td>0.626000</td>\n",
       "      <td>0.085339</td>\n",
       "      <td>0.687242</td>\n",
       "      <td>0.601120</td>\n",
       "    </tr>\n",
       "    <tr>\n",
       "      <th>3</th>\n",
       "      <td>0.351729</td>\n",
       "      <td>0.105410</td>\n",
       "      <td>0.923684</td>\n",
       "      <td>0.933026</td>\n",
       "    </tr>\n",
       "  </tbody>\n",
       "</table>\n",
       "</div>"
      ],
      "text/plain": [
       "          A         B         C         D\n",
       "0  0.442706  0.490083  0.603536  0.438479\n",
       "1  0.914644  0.708358  0.561124  0.091168\n",
       "2  0.626000  0.085339  0.687242  0.601120\n",
       "3  0.351729  0.105410  0.923684  0.933026"
      ]
     },
     "execution_count": 29,
     "metadata": {},
     "output_type": "execute_result"
    }
   ],
   "source": [
    "df[0:4]"
   ]
  },
  {
   "cell_type": "markdown",
   "metadata": {},
   "source": [
    "**Selecting a particular row **\n"
   ]
  },
  {
   "cell_type": "code",
   "execution_count": 46,
   "metadata": {},
   "outputs": [
    {
     "data": {
      "text/html": [
       "<div>\n",
       "<style scoped>\n",
       "    .dataframe tbody tr th:only-of-type {\n",
       "        vertical-align: middle;\n",
       "    }\n",
       "\n",
       "    .dataframe tbody tr th {\n",
       "        vertical-align: top;\n",
       "    }\n",
       "\n",
       "    .dataframe thead th {\n",
       "        text-align: right;\n",
       "    }\n",
       "</style>\n",
       "<table border=\"1\" class=\"dataframe\">\n",
       "  <thead>\n",
       "    <tr style=\"text-align: right;\">\n",
       "      <th></th>\n",
       "      <th>Employees</th>\n",
       "      <th>amount</th>\n",
       "      <th>count</th>\n",
       "    </tr>\n",
       "  </thead>\n",
       "  <tbody>\n",
       "    <tr>\n",
       "      <th>0</th>\n",
       "      <td>a</td>\n",
       "      <td>1</td>\n",
       "      <td>2</td>\n",
       "    </tr>\n",
       "    <tr>\n",
       "      <th>1</th>\n",
       "      <td>a</td>\n",
       "      <td>1</td>\n",
       "      <td>2</td>\n",
       "    </tr>\n",
       "    <tr>\n",
       "      <th>2</th>\n",
       "      <td>a</td>\n",
       "      <td>2</td>\n",
       "      <td>2</td>\n",
       "    </tr>\n",
       "    <tr>\n",
       "      <th>3</th>\n",
       "      <td>b</td>\n",
       "      <td>1</td>\n",
       "      <td>2</td>\n",
       "    </tr>\n",
       "    <tr>\n",
       "      <th>4</th>\n",
       "      <td>b</td>\n",
       "      <td>1</td>\n",
       "      <td>2</td>\n",
       "    </tr>\n",
       "    <tr>\n",
       "      <th>5</th>\n",
       "      <td>c</td>\n",
       "      <td>1</td>\n",
       "      <td>2</td>\n",
       "    </tr>\n",
       "  </tbody>\n",
       "</table>\n",
       "</div>"
      ],
      "text/plain": [
       "  Employees  amount  count\n",
       "0         a       1      2\n",
       "1         a       1      2\n",
       "2         a       2      2\n",
       "3         b       1      2\n",
       "4         b       1      2\n",
       "5         c       1      2"
      ]
     },
     "execution_count": 46,
     "metadata": {},
     "output_type": "execute_result"
    }
   ],
   "source": [
    "df"
   ]
  },
  {
   "cell_type": "code",
   "execution_count": 30,
   "metadata": {},
   "outputs": [
    {
     "data": {
      "text/plain": [
       "A    0.442706\n",
       "B    0.490083\n",
       "C    0.603536\n",
       "D    0.438479\n",
       "Name: 0, dtype: float64"
      ]
     },
     "execution_count": 30,
     "metadata": {},
     "output_type": "execute_result"
    }
   ],
   "source": [
    "df.loc[0]"
   ]
  },
  {
   "cell_type": "markdown",
   "metadata": {},
   "source": [
    "**Selecting a row and column **"
   ]
  },
  {
   "cell_type": "code",
   "execution_count": 10,
   "metadata": {},
   "outputs": [
    {
     "data": {
      "text/plain": [
       "A    0.148710\n",
       "B    0.255946\n",
       "Name: 0, dtype: float64"
      ]
     },
     "execution_count": 10,
     "metadata": {},
     "output_type": "execute_result"
    }
   ],
   "source": [
    "df.loc[0,['A','B']]"
   ]
  },
  {
   "cell_type": "code",
   "execution_count": 48,
   "metadata": {},
   "outputs": [
    {
     "name": "stdout",
     "output_type": "stream",
     "text": [
      "5.0\n"
     ]
    }
   ],
   "source": [
    "#print(df)\n",
    "#df.loc[:,['A']]\n",
    "\n",
    "print(df.at[0,'A'])"
   ]
  },
  {
   "cell_type": "code",
   "execution_count": 49,
   "metadata": {},
   "outputs": [
    {
     "data": {
      "text/html": [
       "<div>\n",
       "<style scoped>\n",
       "    .dataframe tbody tr th:only-of-type {\n",
       "        vertical-align: middle;\n",
       "    }\n",
       "\n",
       "    .dataframe tbody tr th {\n",
       "        vertical-align: top;\n",
       "    }\n",
       "\n",
       "    .dataframe thead th {\n",
       "        text-align: right;\n",
       "    }\n",
       "</style>\n",
       "<table border=\"1\" class=\"dataframe\">\n",
       "  <thead>\n",
       "    <tr style=\"text-align: right;\">\n",
       "      <th></th>\n",
       "      <th>A</th>\n",
       "      <th>B</th>\n",
       "      <th>C</th>\n",
       "      <th>D</th>\n",
       "    </tr>\n",
       "  </thead>\n",
       "  <tbody>\n",
       "    <tr>\n",
       "      <th>0</th>\n",
       "      <td>5.0</td>\n",
       "      <td>5.000000</td>\n",
       "      <td>0.603536</td>\n",
       "      <td>0.438479</td>\n",
       "    </tr>\n",
       "    <tr>\n",
       "      <th>1</th>\n",
       "      <td>5.0</td>\n",
       "      <td>0.708358</td>\n",
       "      <td>0.561124</td>\n",
       "      <td>0.091168</td>\n",
       "    </tr>\n",
       "    <tr>\n",
       "      <th>2</th>\n",
       "      <td>5.0</td>\n",
       "      <td>0.085339</td>\n",
       "      <td>0.687242</td>\n",
       "      <td>0.601120</td>\n",
       "    </tr>\n",
       "    <tr>\n",
       "      <th>3</th>\n",
       "      <td>5.0</td>\n",
       "      <td>0.105410</td>\n",
       "      <td>0.923684</td>\n",
       "      <td>0.933026</td>\n",
       "    </tr>\n",
       "    <tr>\n",
       "      <th>4</th>\n",
       "      <td>5.0</td>\n",
       "      <td>0.117120</td>\n",
       "      <td>0.510514</td>\n",
       "      <td>0.440755</td>\n",
       "    </tr>\n",
       "    <tr>\n",
       "      <th>5</th>\n",
       "      <td>5.0</td>\n",
       "      <td>0.576886</td>\n",
       "      <td>0.658548</td>\n",
       "      <td>0.638392</td>\n",
       "    </tr>\n",
       "    <tr>\n",
       "      <th>6</th>\n",
       "      <td>5.0</td>\n",
       "      <td>0.274479</td>\n",
       "      <td>0.807155</td>\n",
       "      <td>0.875864</td>\n",
       "    </tr>\n",
       "    <tr>\n",
       "      <th>7</th>\n",
       "      <td>5.0</td>\n",
       "      <td>0.992580</td>\n",
       "      <td>0.715163</td>\n",
       "      <td>0.083248</td>\n",
       "    </tr>\n",
       "    <tr>\n",
       "      <th>8</th>\n",
       "      <td>5.0</td>\n",
       "      <td>0.294326</td>\n",
       "      <td>0.135184</td>\n",
       "      <td>0.997124</td>\n",
       "    </tr>\n",
       "    <tr>\n",
       "      <th>9</th>\n",
       "      <td>5.0</td>\n",
       "      <td>0.620387</td>\n",
       "      <td>0.985961</td>\n",
       "      <td>0.439743</td>\n",
       "    </tr>\n",
       "  </tbody>\n",
       "</table>\n",
       "</div>"
      ],
      "text/plain": [
       "     A         B         C         D\n",
       "0  5.0  5.000000  0.603536  0.438479\n",
       "1  5.0  0.708358  0.561124  0.091168\n",
       "2  5.0  0.085339  0.687242  0.601120\n",
       "3  5.0  0.105410  0.923684  0.933026\n",
       "4  5.0  0.117120  0.510514  0.440755\n",
       "5  5.0  0.576886  0.658548  0.638392\n",
       "6  5.0  0.274479  0.807155  0.875864\n",
       "7  5.0  0.992580  0.715163  0.083248\n",
       "8  5.0  0.294326  0.135184  0.997124\n",
       "9  5.0  0.620387  0.985961  0.439743"
      ]
     },
     "execution_count": 49,
     "metadata": {},
     "output_type": "execute_result"
    }
   ],
   "source": [
    "df"
   ]
  },
  {
   "cell_type": "markdown",
   "metadata": {},
   "source": [
    "**Using at instead for faster access , can't be used for a range **"
   ]
  },
  {
   "cell_type": "code",
   "execution_count": 60,
   "metadata": {},
   "outputs": [
    {
     "name": "stdout",
     "output_type": "stream",
     "text": [
      "0 amount\n"
     ]
    }
   ],
   "source": [
    "for i in df.index:\n",
    "    for j in df.columns:\n",
    "        if (df.at[i,j] == 5):\n",
    "            print(i,j)\n",
    "            break"
   ]
  },
  {
   "cell_type": "code",
   "execution_count": 17,
   "metadata": {},
   "outputs": [
    {
     "data": {
      "text/html": [
       "<div>\n",
       "<style scoped>\n",
       "    .dataframe tbody tr th:only-of-type {\n",
       "        vertical-align: middle;\n",
       "    }\n",
       "\n",
       "    .dataframe tbody tr th {\n",
       "        vertical-align: top;\n",
       "    }\n",
       "\n",
       "    .dataframe thead th {\n",
       "        text-align: right;\n",
       "    }\n",
       "</style>\n",
       "<table border=\"1\" class=\"dataframe\">\n",
       "  <thead>\n",
       "    <tr style=\"text-align: right;\">\n",
       "      <th></th>\n",
       "      <th>A</th>\n",
       "      <th>B</th>\n",
       "      <th>C</th>\n",
       "      <th>D</th>\n",
       "    </tr>\n",
       "  </thead>\n",
       "  <tbody>\n",
       "    <tr>\n",
       "      <th>0</th>\n",
       "      <td>0.148710</td>\n",
       "      <td>0.255946</td>\n",
       "      <td>0.507216</td>\n",
       "      <td>0.679305</td>\n",
       "    </tr>\n",
       "    <tr>\n",
       "      <th>1</th>\n",
       "      <td>0.884613</td>\n",
       "      <td>0.366173</td>\n",
       "      <td>0.403009</td>\n",
       "      <td>0.059076</td>\n",
       "    </tr>\n",
       "    <tr>\n",
       "      <th>2</th>\n",
       "      <td>0.190153</td>\n",
       "      <td>0.379428</td>\n",
       "      <td>0.606521</td>\n",
       "      <td>0.670061</td>\n",
       "    </tr>\n",
       "    <tr>\n",
       "      <th>3</th>\n",
       "      <td>0.813650</td>\n",
       "      <td>0.865682</td>\n",
       "      <td>0.005590</td>\n",
       "      <td>0.833786</td>\n",
       "    </tr>\n",
       "    <tr>\n",
       "      <th>4</th>\n",
       "      <td>0.797834</td>\n",
       "      <td>0.530511</td>\n",
       "      <td>0.894112</td>\n",
       "      <td>0.368181</td>\n",
       "    </tr>\n",
       "    <tr>\n",
       "      <th>5</th>\n",
       "      <td>0.180576</td>\n",
       "      <td>0.837625</td>\n",
       "      <td>0.085812</td>\n",
       "      <td>0.325849</td>\n",
       "    </tr>\n",
       "    <tr>\n",
       "      <th>6</th>\n",
       "      <td>0.099598</td>\n",
       "      <td>0.170077</td>\n",
       "      <td>0.896005</td>\n",
       "      <td>0.045636</td>\n",
       "    </tr>\n",
       "    <tr>\n",
       "      <th>7</th>\n",
       "      <td>0.143263</td>\n",
       "      <td>0.313568</td>\n",
       "      <td>0.902985</td>\n",
       "      <td>0.922671</td>\n",
       "    </tr>\n",
       "    <tr>\n",
       "      <th>8</th>\n",
       "      <td>0.665560</td>\n",
       "      <td>0.226335</td>\n",
       "      <td>0.702292</td>\n",
       "      <td>0.288820</td>\n",
       "    </tr>\n",
       "    <tr>\n",
       "      <th>9</th>\n",
       "      <td>0.560362</td>\n",
       "      <td>0.277237</td>\n",
       "      <td>0.506622</td>\n",
       "      <td>0.193656</td>\n",
       "    </tr>\n",
       "  </tbody>\n",
       "</table>\n",
       "</div>"
      ],
      "text/plain": [
       "          A         B         C         D\n",
       "0  0.148710  0.255946  0.507216  0.679305\n",
       "1  0.884613  0.366173  0.403009  0.059076\n",
       "2  0.190153  0.379428  0.606521  0.670061\n",
       "3  0.813650  0.865682  0.005590  0.833786\n",
       "4  0.797834  0.530511  0.894112  0.368181\n",
       "5  0.180576  0.837625  0.085812  0.325849\n",
       "6  0.099598  0.170077  0.896005  0.045636\n",
       "7  0.143263  0.313568  0.902985  0.922671\n",
       "8  0.665560  0.226335  0.702292  0.288820\n",
       "9  0.560362  0.277237  0.506622  0.193656"
      ]
     },
     "execution_count": 17,
     "metadata": {},
     "output_type": "execute_result"
    }
   ],
   "source": [
    "df"
   ]
  },
  {
   "cell_type": "code",
   "execution_count": 20,
   "metadata": {},
   "outputs": [
    {
     "data": {
      "text/html": [
       "<div>\n",
       "<style scoped>\n",
       "    .dataframe tbody tr th:only-of-type {\n",
       "        vertical-align: middle;\n",
       "    }\n",
       "\n",
       "    .dataframe tbody tr th {\n",
       "        vertical-align: top;\n",
       "    }\n",
       "\n",
       "    .dataframe thead th {\n",
       "        text-align: right;\n",
       "    }\n",
       "</style>\n",
       "<table border=\"1\" class=\"dataframe\">\n",
       "  <thead>\n",
       "    <tr style=\"text-align: right;\">\n",
       "      <th></th>\n",
       "      <th>A</th>\n",
       "      <th>B</th>\n",
       "      <th>C</th>\n",
       "      <th>D</th>\n",
       "    </tr>\n",
       "  </thead>\n",
       "  <tbody>\n",
       "    <tr>\n",
       "      <th>0</th>\n",
       "      <td>False</td>\n",
       "      <td>True</td>\n",
       "      <td>True</td>\n",
       "      <td>True</td>\n",
       "    </tr>\n",
       "    <tr>\n",
       "      <th>1</th>\n",
       "      <td>True</td>\n",
       "      <td>True</td>\n",
       "      <td>True</td>\n",
       "      <td>False</td>\n",
       "    </tr>\n",
       "    <tr>\n",
       "      <th>2</th>\n",
       "      <td>False</td>\n",
       "      <td>True</td>\n",
       "      <td>True</td>\n",
       "      <td>True</td>\n",
       "    </tr>\n",
       "    <tr>\n",
       "      <th>3</th>\n",
       "      <td>True</td>\n",
       "      <td>True</td>\n",
       "      <td>False</td>\n",
       "      <td>True</td>\n",
       "    </tr>\n",
       "    <tr>\n",
       "      <th>4</th>\n",
       "      <td>True</td>\n",
       "      <td>True</td>\n",
       "      <td>True</td>\n",
       "      <td>True</td>\n",
       "    </tr>\n",
       "    <tr>\n",
       "      <th>5</th>\n",
       "      <td>False</td>\n",
       "      <td>True</td>\n",
       "      <td>False</td>\n",
       "      <td>True</td>\n",
       "    </tr>\n",
       "    <tr>\n",
       "      <th>6</th>\n",
       "      <td>False</td>\n",
       "      <td>False</td>\n",
       "      <td>True</td>\n",
       "      <td>False</td>\n",
       "    </tr>\n",
       "    <tr>\n",
       "      <th>7</th>\n",
       "      <td>False</td>\n",
       "      <td>True</td>\n",
       "      <td>True</td>\n",
       "      <td>True</td>\n",
       "    </tr>\n",
       "    <tr>\n",
       "      <th>8</th>\n",
       "      <td>True</td>\n",
       "      <td>True</td>\n",
       "      <td>True</td>\n",
       "      <td>True</td>\n",
       "    </tr>\n",
       "    <tr>\n",
       "      <th>9</th>\n",
       "      <td>True</td>\n",
       "      <td>True</td>\n",
       "      <td>True</td>\n",
       "      <td>False</td>\n",
       "    </tr>\n",
       "  </tbody>\n",
       "</table>\n",
       "</div>"
      ],
      "text/plain": [
       "       A      B      C      D\n",
       "0  False   True   True   True\n",
       "1   True   True   True  False\n",
       "2  False   True   True   True\n",
       "3   True   True  False   True\n",
       "4   True   True   True   True\n",
       "5  False   True  False   True\n",
       "6  False  False   True  False\n",
       "7  False   True   True   True\n",
       "8   True   True   True   True\n",
       "9   True   True   True  False"
      ]
     },
     "execution_count": 20,
     "metadata": {},
     "output_type": "execute_result"
    }
   ],
   "source": [
    "df>=0.2"
   ]
  },
  {
   "cell_type": "code",
   "execution_count": 21,
   "metadata": {},
   "outputs": [
    {
     "name": "stdout",
     "output_type": "stream",
     "text": [
      "          A         B         C         D\n",
      "0       NaN  0.255946  0.507216  0.679305\n",
      "1  0.884613  0.366173  0.403009       NaN\n",
      "2       NaN  0.379428  0.606521  0.670061\n",
      "3  0.813650  0.865682       NaN  0.833786\n",
      "4  0.797834  0.530511  0.894112  0.368181\n",
      "5       NaN  0.837625       NaN  0.325849\n",
      "6       NaN       NaN  0.896005       NaN\n",
      "7       NaN  0.313568  0.902985  0.922671\n",
      "8  0.665560  0.226335  0.702292  0.288820\n",
      "9  0.560362  0.277237  0.506622       NaN\n"
     ]
    }
   ],
   "source": [
    "print(df[df > 0.2])\n"
   ]
  },
  {
   "cell_type": "code",
   "execution_count": null,
   "metadata": {},
   "outputs": [],
   "source": []
  },
  {
   "cell_type": "code",
   "execution_count": null,
   "metadata": {},
   "outputs": [],
   "source": []
  },
  {
   "cell_type": "code",
   "execution_count": 23,
   "metadata": {},
   "outputs": [
    {
     "data": {
      "text/plain": [
       "0.9611065240021954"
      ]
     },
     "execution_count": 23,
     "metadata": {},
     "output_type": "execute_result"
    }
   ],
   "source": [
    "df.at[0,'A']"
   ]
  },
  {
   "cell_type": "markdown",
   "metadata": {},
   "source": [
    "**Selecting by position **"
   ]
  },
  {
   "cell_type": "code",
   "execution_count": 55,
   "metadata": {},
   "outputs": [
    {
     "data": {
      "text/plain": [
       "A    5.000000\n",
       "B    5.000000\n",
       "C    0.603536\n",
       "D    0.438479\n",
       "Name: 0, dtype: float64"
      ]
     },
     "execution_count": 55,
     "metadata": {},
     "output_type": "execute_result"
    }
   ],
   "source": [
    "df.iloc[0]"
   ]
  },
  {
   "cell_type": "markdown",
   "metadata": {},
   "source": [
    "**Selecting by condition  **\n"
   ]
  },
  {
   "cell_type": "code",
   "execution_count": 61,
   "metadata": {},
   "outputs": [
    {
     "name": "stdout",
     "output_type": "stream",
     "text": [
      "  Employees  amount  count\n",
      "0         a       1      2\n",
      "1         a       1      2\n",
      "2         a       2      2\n",
      "3         b       1      2\n",
      "4         b       1      2\n",
      "5         c       1      2\n",
      "  Employees  amount  count\n",
      "2         a       2      2\n"
     ]
    }
   ],
   "source": [
    "print(df)\n",
    "print(df[(df.amount>1) & (df.Employees == 'a')])\n"
   ]
  },
  {
   "cell_type": "code",
   "execution_count": 62,
   "metadata": {},
   "outputs": [
    {
     "data": {
      "text/html": [
       "<div>\n",
       "<style scoped>\n",
       "    .dataframe tbody tr th:only-of-type {\n",
       "        vertical-align: middle;\n",
       "    }\n",
       "\n",
       "    .dataframe tbody tr th {\n",
       "        vertical-align: top;\n",
       "    }\n",
       "\n",
       "    .dataframe thead th {\n",
       "        text-align: right;\n",
       "    }\n",
       "</style>\n",
       "<table border=\"1\" class=\"dataframe\">\n",
       "  <thead>\n",
       "    <tr style=\"text-align: right;\">\n",
       "      <th></th>\n",
       "      <th>Employees</th>\n",
       "      <th>amount</th>\n",
       "      <th>count</th>\n",
       "    </tr>\n",
       "  </thead>\n",
       "  <tbody>\n",
       "  </tbody>\n",
       "</table>\n",
       "</div>"
      ],
      "text/plain": [
       "Empty DataFrame\n",
       "Columns: [Employees, amount, count]\n",
       "Index: []"
      ]
     },
     "execution_count": 62,
     "metadata": {},
     "output_type": "execute_result"
    }
   ],
   "source": [
    "df[df.amount>4]"
   ]
  },
  {
   "cell_type": "markdown",
   "metadata": {},
   "source": [
    "## Missing Data"
   ]
  },
  {
   "cell_type": "code",
   "execution_count": 24,
   "metadata": {},
   "outputs": [
    {
     "name": "stdout",
     "output_type": "stream",
     "text": [
      "          A         B         C         D\n",
      "0  0.148710  0.255946  0.507216  0.679305\n",
      "1  0.884613  0.366173  0.403009  0.059076\n",
      "2  0.190153  0.379428  0.606521  0.670061\n",
      "3  0.813650  0.865682  0.005590  0.833786\n",
      "4  0.797834  0.530511  0.894112  0.368181\n",
      "5  0.180576  0.837625  0.085812  0.325849\n",
      "6  0.099598  0.170077  0.896005  0.045636\n",
      "7  0.143263  0.313568  0.902985  0.922671\n",
      "8  0.665560  0.226335  0.702292  0.288820\n",
      "9  0.560362  0.277237  0.506622  0.193656\n",
      "       A      B      C      D\n",
      "0   True   True  False  False\n",
      "1  False   True   True   True\n",
      "2   True   True  False  False\n",
      "3  False  False   True  False\n",
      "4  False  False  False   True\n",
      "5   True  False   True   True\n",
      "6   True   True  False   True\n",
      "7   True   True  False  False\n",
      "8  False   True  False   True\n",
      "9  False   True  False   True\n"
     ]
    }
   ],
   "source": [
    "print(df)\n",
    "print(df<.5)"
   ]
  },
  {
   "cell_type": "code",
   "execution_count": 25,
   "metadata": {},
   "outputs": [
    {
     "name": "stdout",
     "output_type": "stream",
     "text": [
      "          A         B         C         D\n",
      "0  0.148710  0.255946  0.507216  0.679305\n",
      "1       NaN  0.366173  0.403009  0.059076\n",
      "2  0.190153  0.379428  0.606521  0.670061\n",
      "3       NaN       NaN  0.005590       NaN\n",
      "4  0.797834  0.530511       NaN  0.368181\n",
      "5  0.180576       NaN  0.085812  0.325849\n",
      "6  0.099598  0.170077       NaN  0.045636\n",
      "7  0.143263  0.313568       NaN       NaN\n",
      "8  0.665560  0.226335  0.702292  0.288820\n",
      "9  0.560362  0.277237  0.506622  0.193656\n"
     ]
    }
   ],
   "source": [
    "df2=df[df<.8]\n",
    "print(df2)"
   ]
  },
  {
   "cell_type": "markdown",
   "metadata": {},
   "source": [
    "**Drop all rows which have NaN **\n"
   ]
  },
  {
   "cell_type": "code",
   "execution_count": 26,
   "metadata": {},
   "outputs": [
    {
     "data": {
      "text/html": [
       "<div>\n",
       "<style scoped>\n",
       "    .dataframe tbody tr th:only-of-type {\n",
       "        vertical-align: middle;\n",
       "    }\n",
       "\n",
       "    .dataframe tbody tr th {\n",
       "        vertical-align: top;\n",
       "    }\n",
       "\n",
       "    .dataframe thead th {\n",
       "        text-align: right;\n",
       "    }\n",
       "</style>\n",
       "<table border=\"1\" class=\"dataframe\">\n",
       "  <thead>\n",
       "    <tr style=\"text-align: right;\">\n",
       "      <th></th>\n",
       "      <th>A</th>\n",
       "      <th>B</th>\n",
       "      <th>C</th>\n",
       "      <th>D</th>\n",
       "    </tr>\n",
       "  </thead>\n",
       "  <tbody>\n",
       "    <tr>\n",
       "      <th>0</th>\n",
       "      <td>0.148710</td>\n",
       "      <td>0.255946</td>\n",
       "      <td>0.507216</td>\n",
       "      <td>0.679305</td>\n",
       "    </tr>\n",
       "    <tr>\n",
       "      <th>2</th>\n",
       "      <td>0.190153</td>\n",
       "      <td>0.379428</td>\n",
       "      <td>0.606521</td>\n",
       "      <td>0.670061</td>\n",
       "    </tr>\n",
       "    <tr>\n",
       "      <th>8</th>\n",
       "      <td>0.665560</td>\n",
       "      <td>0.226335</td>\n",
       "      <td>0.702292</td>\n",
       "      <td>0.288820</td>\n",
       "    </tr>\n",
       "    <tr>\n",
       "      <th>9</th>\n",
       "      <td>0.560362</td>\n",
       "      <td>0.277237</td>\n",
       "      <td>0.506622</td>\n",
       "      <td>0.193656</td>\n",
       "    </tr>\n",
       "  </tbody>\n",
       "</table>\n",
       "</div>"
      ],
      "text/plain": [
       "          A         B         C         D\n",
       "0  0.148710  0.255946  0.507216  0.679305\n",
       "2  0.190153  0.379428  0.606521  0.670061\n",
       "8  0.665560  0.226335  0.702292  0.288820\n",
       "9  0.560362  0.277237  0.506622  0.193656"
      ]
     },
     "execution_count": 26,
     "metadata": {},
     "output_type": "execute_result"
    }
   ],
   "source": [
    "df2.dropna()"
   ]
  },
  {
   "cell_type": "markdown",
   "metadata": {},
   "source": [
    "**Replace NaN with other values **\n"
   ]
  },
  {
   "cell_type": "code",
   "execution_count": 27,
   "metadata": {},
   "outputs": [
    {
     "data": {
      "text/html": [
       "<div>\n",
       "<style scoped>\n",
       "    .dataframe tbody tr th:only-of-type {\n",
       "        vertical-align: middle;\n",
       "    }\n",
       "\n",
       "    .dataframe tbody tr th {\n",
       "        vertical-align: top;\n",
       "    }\n",
       "\n",
       "    .dataframe thead th {\n",
       "        text-align: right;\n",
       "    }\n",
       "</style>\n",
       "<table border=\"1\" class=\"dataframe\">\n",
       "  <thead>\n",
       "    <tr style=\"text-align: right;\">\n",
       "      <th></th>\n",
       "      <th>A</th>\n",
       "      <th>B</th>\n",
       "      <th>C</th>\n",
       "      <th>D</th>\n",
       "    </tr>\n",
       "  </thead>\n",
       "  <tbody>\n",
       "    <tr>\n",
       "      <th>0</th>\n",
       "      <td>0.148710</td>\n",
       "      <td>0.255946</td>\n",
       "      <td>0.507216</td>\n",
       "      <td>0.679305</td>\n",
       "    </tr>\n",
       "    <tr>\n",
       "      <th>1</th>\n",
       "      <td>1.000000</td>\n",
       "      <td>0.366173</td>\n",
       "      <td>0.403009</td>\n",
       "      <td>0.059076</td>\n",
       "    </tr>\n",
       "    <tr>\n",
       "      <th>2</th>\n",
       "      <td>0.190153</td>\n",
       "      <td>0.379428</td>\n",
       "      <td>0.606521</td>\n",
       "      <td>0.670061</td>\n",
       "    </tr>\n",
       "    <tr>\n",
       "      <th>3</th>\n",
       "      <td>1.000000</td>\n",
       "      <td>1.000000</td>\n",
       "      <td>0.005590</td>\n",
       "      <td>1.000000</td>\n",
       "    </tr>\n",
       "    <tr>\n",
       "      <th>4</th>\n",
       "      <td>0.797834</td>\n",
       "      <td>0.530511</td>\n",
       "      <td>1.000000</td>\n",
       "      <td>0.368181</td>\n",
       "    </tr>\n",
       "    <tr>\n",
       "      <th>5</th>\n",
       "      <td>0.180576</td>\n",
       "      <td>1.000000</td>\n",
       "      <td>0.085812</td>\n",
       "      <td>0.325849</td>\n",
       "    </tr>\n",
       "    <tr>\n",
       "      <th>6</th>\n",
       "      <td>0.099598</td>\n",
       "      <td>0.170077</td>\n",
       "      <td>1.000000</td>\n",
       "      <td>0.045636</td>\n",
       "    </tr>\n",
       "    <tr>\n",
       "      <th>7</th>\n",
       "      <td>0.143263</td>\n",
       "      <td>0.313568</td>\n",
       "      <td>1.000000</td>\n",
       "      <td>1.000000</td>\n",
       "    </tr>\n",
       "    <tr>\n",
       "      <th>8</th>\n",
       "      <td>0.665560</td>\n",
       "      <td>0.226335</td>\n",
       "      <td>0.702292</td>\n",
       "      <td>0.288820</td>\n",
       "    </tr>\n",
       "    <tr>\n",
       "      <th>9</th>\n",
       "      <td>0.560362</td>\n",
       "      <td>0.277237</td>\n",
       "      <td>0.506622</td>\n",
       "      <td>0.193656</td>\n",
       "    </tr>\n",
       "  </tbody>\n",
       "</table>\n",
       "</div>"
      ],
      "text/plain": [
       "          A         B         C         D\n",
       "0  0.148710  0.255946  0.507216  0.679305\n",
       "1  1.000000  0.366173  0.403009  0.059076\n",
       "2  0.190153  0.379428  0.606521  0.670061\n",
       "3  1.000000  1.000000  0.005590  1.000000\n",
       "4  0.797834  0.530511  1.000000  0.368181\n",
       "5  0.180576  1.000000  0.085812  0.325849\n",
       "6  0.099598  0.170077  1.000000  0.045636\n",
       "7  0.143263  0.313568  1.000000  1.000000\n",
       "8  0.665560  0.226335  0.702292  0.288820\n",
       "9  0.560362  0.277237  0.506622  0.193656"
      ]
     },
     "execution_count": 27,
     "metadata": {},
     "output_type": "execute_result"
    }
   ],
   "source": [
    "df2.fillna(value=1)"
   ]
  },
  {
   "cell_type": "markdown",
   "metadata": {},
   "source": [
    "## Statistical Operations"
   ]
  },
  {
   "cell_type": "markdown",
   "metadata": {},
   "source": [
    "**Taking mean **"
   ]
  },
  {
   "cell_type": "code",
   "execution_count": 28,
   "metadata": {},
   "outputs": [
    {
     "data": {
      "text/html": [
       "<div>\n",
       "<style scoped>\n",
       "    .dataframe tbody tr th:only-of-type {\n",
       "        vertical-align: middle;\n",
       "    }\n",
       "\n",
       "    .dataframe tbody tr th {\n",
       "        vertical-align: top;\n",
       "    }\n",
       "\n",
       "    .dataframe thead th {\n",
       "        text-align: right;\n",
       "    }\n",
       "</style>\n",
       "<table border=\"1\" class=\"dataframe\">\n",
       "  <thead>\n",
       "    <tr style=\"text-align: right;\">\n",
       "      <th></th>\n",
       "      <th>A</th>\n",
       "      <th>B</th>\n",
       "      <th>C</th>\n",
       "      <th>D</th>\n",
       "    </tr>\n",
       "  </thead>\n",
       "  <tbody>\n",
       "    <tr>\n",
       "      <th>0</th>\n",
       "      <td>0.148710</td>\n",
       "      <td>0.255946</td>\n",
       "      <td>0.507216</td>\n",
       "      <td>0.679305</td>\n",
       "    </tr>\n",
       "    <tr>\n",
       "      <th>1</th>\n",
       "      <td>0.884613</td>\n",
       "      <td>0.366173</td>\n",
       "      <td>0.403009</td>\n",
       "      <td>0.059076</td>\n",
       "    </tr>\n",
       "    <tr>\n",
       "      <th>2</th>\n",
       "      <td>0.190153</td>\n",
       "      <td>0.379428</td>\n",
       "      <td>0.606521</td>\n",
       "      <td>0.670061</td>\n",
       "    </tr>\n",
       "    <tr>\n",
       "      <th>3</th>\n",
       "      <td>0.813650</td>\n",
       "      <td>0.865682</td>\n",
       "      <td>0.005590</td>\n",
       "      <td>0.833786</td>\n",
       "    </tr>\n",
       "    <tr>\n",
       "      <th>4</th>\n",
       "      <td>0.797834</td>\n",
       "      <td>0.530511</td>\n",
       "      <td>0.894112</td>\n",
       "      <td>0.368181</td>\n",
       "    </tr>\n",
       "    <tr>\n",
       "      <th>5</th>\n",
       "      <td>0.180576</td>\n",
       "      <td>0.837625</td>\n",
       "      <td>0.085812</td>\n",
       "      <td>0.325849</td>\n",
       "    </tr>\n",
       "    <tr>\n",
       "      <th>6</th>\n",
       "      <td>0.099598</td>\n",
       "      <td>0.170077</td>\n",
       "      <td>0.896005</td>\n",
       "      <td>0.045636</td>\n",
       "    </tr>\n",
       "    <tr>\n",
       "      <th>7</th>\n",
       "      <td>0.143263</td>\n",
       "      <td>0.313568</td>\n",
       "      <td>0.902985</td>\n",
       "      <td>0.922671</td>\n",
       "    </tr>\n",
       "    <tr>\n",
       "      <th>8</th>\n",
       "      <td>0.665560</td>\n",
       "      <td>0.226335</td>\n",
       "      <td>0.702292</td>\n",
       "      <td>0.288820</td>\n",
       "    </tr>\n",
       "    <tr>\n",
       "      <th>9</th>\n",
       "      <td>0.560362</td>\n",
       "      <td>0.277237</td>\n",
       "      <td>0.506622</td>\n",
       "      <td>0.193656</td>\n",
       "    </tr>\n",
       "  </tbody>\n",
       "</table>\n",
       "</div>"
      ],
      "text/plain": [
       "          A         B         C         D\n",
       "0  0.148710  0.255946  0.507216  0.679305\n",
       "1  0.884613  0.366173  0.403009  0.059076\n",
       "2  0.190153  0.379428  0.606521  0.670061\n",
       "3  0.813650  0.865682  0.005590  0.833786\n",
       "4  0.797834  0.530511  0.894112  0.368181\n",
       "5  0.180576  0.837625  0.085812  0.325849\n",
       "6  0.099598  0.170077  0.896005  0.045636\n",
       "7  0.143263  0.313568  0.902985  0.922671\n",
       "8  0.665560  0.226335  0.702292  0.288820\n",
       "9  0.560362  0.277237  0.506622  0.193656"
      ]
     },
     "execution_count": 28,
     "metadata": {},
     "output_type": "execute_result"
    }
   ],
   "source": [
    "df"
   ]
  },
  {
   "cell_type": "code",
   "execution_count": 29,
   "metadata": {},
   "outputs": [
    {
     "data": {
      "text/plain": [
       "A    0.448432\n",
       "B    0.422258\n",
       "C    0.551017\n",
       "D    0.438704\n",
       "dtype: float64"
      ]
     },
     "execution_count": 29,
     "metadata": {},
     "output_type": "execute_result"
    }
   ],
   "source": [
    "df.mean()"
   ]
  },
  {
   "cell_type": "markdown",
   "metadata": {},
   "source": [
    "**Mean in other axis **"
   ]
  },
  {
   "cell_type": "code",
   "execution_count": 73,
   "metadata": {},
   "outputs": [
    {
     "data": {
      "text/plain": [
       "0    0.308227\n",
       "1    0.575665\n",
       "2    0.325544\n",
       "3    0.522733\n",
       "4    0.377592\n",
       "5    0.721912\n",
       "6    0.726775\n",
       "7    0.254704\n",
       "8    0.448321\n",
       "9    0.479884\n",
       "dtype: float64"
      ]
     },
     "execution_count": 73,
     "metadata": {},
     "output_type": "execute_result"
    }
   ],
   "source": [
    "df.mean(axis = 1)"
   ]
  },
  {
   "cell_type": "markdown",
   "metadata": {},
   "source": [
    "  "
   ]
  },
  {
   "cell_type": "markdown",
   "metadata": {},
   "source": [
    "**groupby function **"
   ]
  },
  {
   "cell_type": "code",
   "execution_count": 30,
   "metadata": {},
   "outputs": [
    {
     "data": {
      "text/html": [
       "<div>\n",
       "<style scoped>\n",
       "    .dataframe tbody tr th:only-of-type {\n",
       "        vertical-align: middle;\n",
       "    }\n",
       "\n",
       "    .dataframe tbody tr th {\n",
       "        vertical-align: top;\n",
       "    }\n",
       "\n",
       "    .dataframe thead th {\n",
       "        text-align: right;\n",
       "    }\n",
       "</style>\n",
       "<table border=\"1\" class=\"dataframe\">\n",
       "  <thead>\n",
       "    <tr style=\"text-align: right;\">\n",
       "      <th></th>\n",
       "      <th>Employees</th>\n",
       "      <th>amount</th>\n",
       "      <th>count</th>\n",
       "    </tr>\n",
       "  </thead>\n",
       "  <tbody>\n",
       "    <tr>\n",
       "      <th>0</th>\n",
       "      <td>a</td>\n",
       "      <td>1</td>\n",
       "      <td>2</td>\n",
       "    </tr>\n",
       "    <tr>\n",
       "      <th>1</th>\n",
       "      <td>a</td>\n",
       "      <td>1</td>\n",
       "      <td>2</td>\n",
       "    </tr>\n",
       "    <tr>\n",
       "      <th>2</th>\n",
       "      <td>a</td>\n",
       "      <td>2</td>\n",
       "      <td>2</td>\n",
       "    </tr>\n",
       "    <tr>\n",
       "      <th>3</th>\n",
       "      <td>b</td>\n",
       "      <td>1</td>\n",
       "      <td>2</td>\n",
       "    </tr>\n",
       "    <tr>\n",
       "      <th>4</th>\n",
       "      <td>b</td>\n",
       "      <td>1</td>\n",
       "      <td>2</td>\n",
       "    </tr>\n",
       "    <tr>\n",
       "      <th>5</th>\n",
       "      <td>c</td>\n",
       "      <td>1</td>\n",
       "      <td>2</td>\n",
       "    </tr>\n",
       "  </tbody>\n",
       "</table>\n",
       "</div>"
      ],
      "text/plain": [
       "  Employees  amount  count\n",
       "0         a       1      2\n",
       "1         a       1      2\n",
       "2         a       2      2\n",
       "3         b       1      2\n",
       "4         b       1      2\n",
       "5         c       1      2"
      ]
     },
     "execution_count": 30,
     "metadata": {},
     "output_type": "execute_result"
    }
   ],
   "source": [
    "#Creating a dataframe\n",
    "d = {'amount':[1,1,2,1,1,1],\n",
    "     'count':[2,2,2,2,2,2],\n",
    "     'Employees':['a','a','a','b','b','c']}\n",
    "\n",
    "df = pd.DataFrame(d)\n",
    "df"
   ]
  },
  {
   "cell_type": "code",
   "execution_count": 6,
   "metadata": {},
   "outputs": [
    {
     "name": "stdout",
     "output_type": "stream",
     "text": [
      "<pandas.core.groupby.groupby.DataFrameGroupBy object at 0x000000001006D080>\n",
      "           amount  count\n",
      "Employees               \n",
      "a               4      6\n",
      "b               2      4\n",
      "c               1      2\n"
     ]
    }
   ],
   "source": [
    "# Create group object\n",
    "one = df.groupby('Employees')\n",
    "print(one)\n",
    "# Apply sum function\n",
    "print(one.sum())"
   ]
  },
  {
   "cell_type": "code",
   "execution_count": 7,
   "metadata": {},
   "outputs": [
    {
     "data": {
      "text/plain": [
       "Index(['a', 'b', 'c'], dtype='object', name='Employees')"
      ]
     },
     "execution_count": 7,
     "metadata": {},
     "output_type": "execute_result"
    }
   ],
   "source": [
    "# Create group object\n",
    "one = df.groupby('Employees')\n",
    "\n",
    "# Apply sum function\n",
    "grouped_by_df = one.sum()\n",
    "\n",
    "grouped_by_df.index"
   ]
  },
  {
   "cell_type": "code",
   "execution_count": 8,
   "metadata": {},
   "outputs": [
    {
     "data": {
      "text/plain": [
       "Index(['a', 'b', 'c'], dtype='object', name='Employees')"
      ]
     },
     "execution_count": 8,
     "metadata": {},
     "output_type": "execute_result"
    }
   ],
   "source": [
    "one.sum().index"
   ]
  },
  {
   "cell_type": "code",
   "execution_count": 9,
   "metadata": {},
   "outputs": [
    {
     "name": "stdout",
     "output_type": "stream",
     "text": [
      "  Employees  amount  count\n",
      "0         a       1      2\n",
      "1         a       1      2\n",
      "2         a       2      2\n",
      "3         b       1      2\n",
      "4         b       1      2\n",
      "5         c       1      2\n",
      "                  count\n",
      "Employees amount       \n",
      "a         1           4\n",
      "          2           2\n",
      "b         1           4\n",
      "c         1           2\n"
     ]
    }
   ],
   "source": [
    "print(df)\n",
    "letterone = df.groupby(['Employees','amount']).sum()\n",
    "print(letterone)"
   ]
  },
  {
   "cell_type": "markdown",
   "metadata": {},
   "source": [
    "**To get more info about how data is grouped by **"
   ]
  },
  {
   "cell_type": "code",
   "execution_count": 10,
   "metadata": {},
   "outputs": [
    {
     "data": {
      "text/plain": [
       "MultiIndex(levels=[['a', 'b', 'c'], [1, 2]],\n",
       "           labels=[[0, 0, 1, 2], [0, 1, 0, 0]],\n",
       "           names=['Employees', 'amount'])"
      ]
     },
     "execution_count": 10,
     "metadata": {},
     "output_type": "execute_result"
    }
   ],
   "source": [
    "letterone.index"
   ]
  },
  {
   "cell_type": "markdown",
   "metadata": {},
   "source": [
    "**You may want to not have the columns you are grouping by become your index, this can be easily achieved as shown below. **"
   ]
  },
  {
   "cell_type": "code",
   "execution_count": 31,
   "metadata": {},
   "outputs": [
    {
     "data": {
      "text/html": [
       "<div>\n",
       "<style scoped>\n",
       "    .dataframe tbody tr th:only-of-type {\n",
       "        vertical-align: middle;\n",
       "    }\n",
       "\n",
       "    .dataframe tbody tr th {\n",
       "        vertical-align: top;\n",
       "    }\n",
       "\n",
       "    .dataframe thead th {\n",
       "        text-align: right;\n",
       "    }\n",
       "</style>\n",
       "<table border=\"1\" class=\"dataframe\">\n",
       "  <thead>\n",
       "    <tr style=\"text-align: right;\">\n",
       "      <th></th>\n",
       "      <th>Employees</th>\n",
       "      <th>amount</th>\n",
       "      <th>count</th>\n",
       "    </tr>\n",
       "  </thead>\n",
       "  <tbody>\n",
       "    <tr>\n",
       "      <th>0</th>\n",
       "      <td>a</td>\n",
       "      <td>1</td>\n",
       "      <td>4</td>\n",
       "    </tr>\n",
       "    <tr>\n",
       "      <th>1</th>\n",
       "      <td>a</td>\n",
       "      <td>2</td>\n",
       "      <td>2</td>\n",
       "    </tr>\n",
       "    <tr>\n",
       "      <th>2</th>\n",
       "      <td>b</td>\n",
       "      <td>1</td>\n",
       "      <td>4</td>\n",
       "    </tr>\n",
       "    <tr>\n",
       "      <th>3</th>\n",
       "      <td>c</td>\n",
       "      <td>1</td>\n",
       "      <td>2</td>\n",
       "    </tr>\n",
       "  </tbody>\n",
       "</table>\n",
       "</div>"
      ],
      "text/plain": [
       "  Employees  amount  count\n",
       "0         a       1      4\n",
       "1         a       2      2\n",
       "2         b       1      4\n",
       "3         c       1      2"
      ]
     },
     "execution_count": 31,
     "metadata": {},
     "output_type": "execute_result"
    }
   ],
   "source": [
    "letterone = df.groupby(['Employees','amount'], as_index=False).sum()\n",
    "letterone"
   ]
  },
  {
   "cell_type": "code",
   "execution_count": 32,
   "metadata": {},
   "outputs": [
    {
     "data": {
      "text/plain": [
       "Int64Index([0, 1, 2, 3], dtype='int64')"
      ]
     },
     "execution_count": 32,
     "metadata": {},
     "output_type": "execute_result"
    }
   ],
   "source": [
    "letterone.index"
   ]
  },
  {
   "cell_type": "code",
   "execution_count": null,
   "metadata": {},
   "outputs": [],
   "source": []
  }
 ],
 "metadata": {
  "kernelspec": {
   "display_name": "Python 3",
   "language": "python",
   "name": "python3"
  },
  "language_info": {
   "codemirror_mode": {
    "name": "ipython",
    "version": 3
   },
   "file_extension": ".py",
   "mimetype": "text/x-python",
   "name": "python",
   "nbconvert_exporter": "python",
   "pygments_lexer": "ipython3",
   "version": "3.5.4"
  }
 },
 "nbformat": 4,
 "nbformat_minor": 2
}
