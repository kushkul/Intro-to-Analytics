{
 "cells": [
  {
   "cell_type": "code",
   "execution_count": 2,
   "metadata": {},
   "outputs": [],
   "source": [
    "from sklearn.preprocessing import MinMaxScaler\n",
    "import numpy as np\n",
    "import pandas as pd"
   ]
  },
  {
   "cell_type": "code",
   "execution_count": 35,
   "metadata": {},
   "outputs": [],
   "source": [
    "data_train = np.arange(0,20,0.5)\n",
    "data_test = np.arange(0,10,1)"
   ]
  },
  {
   "cell_type": "code",
   "execution_count": 36,
   "metadata": {},
   "outputs": [
    {
     "name": "stdout",
     "output_type": "stream",
     "text": [
      "(40,)\n",
      "(40, 1)\n",
      "[[0. ]\n",
      " [0.5]\n",
      " [1. ]\n",
      " [1.5]\n",
      " [2. ]]\n"
     ]
    }
   ],
   "source": [
    "print(data_train.shape)\n",
    "data_train = data_train.reshape(-1,1)\n",
    "data_test = data_test.reshape(-1,1)\n",
    "print(data_train.shape)\n",
    "print(data_train[:5])"
   ]
  },
  {
   "cell_type": "code",
   "execution_count": 37,
   "metadata": {},
   "outputs": [
    {
     "data": {
      "text/plain": [
       "array([[0],\n",
       "       [1],\n",
       "       [2],\n",
       "       [3],\n",
       "       [4],\n",
       "       [5],\n",
       "       [6],\n",
       "       [7],\n",
       "       [8],\n",
       "       [9]])"
      ]
     },
     "execution_count": 37,
     "metadata": {},
     "output_type": "execute_result"
    }
   ],
   "source": [
    "data_test"
   ]
  },
  {
   "cell_type": "code",
   "execution_count": 38,
   "metadata": {},
   "outputs": [],
   "source": [
    "mms = MinMaxScaler()"
   ]
  },
  {
   "cell_type": "code",
   "execution_count": 44,
   "metadata": {},
   "outputs": [
    {
     "name": "stdout",
     "output_type": "stream",
     "text": [
      "MinMaxScaler(copy=True, feature_range=(0, 1))\n"
     ]
    }
   ],
   "source": [
    "print(mms.fit(data_train))"
   ]
  },
  {
   "cell_type": "code",
   "execution_count": 45,
   "metadata": {},
   "outputs": [
    {
     "name": "stdout",
     "output_type": "stream",
     "text": [
      "[[0.        ]\n",
      " [0.02564103]\n",
      " [0.05128205]\n",
      " [0.07692308]\n",
      " [0.1025641 ]\n",
      " [0.12820513]\n",
      " [0.15384615]\n",
      " [0.17948718]\n",
      " [0.20512821]\n",
      " [0.23076923]\n",
      " [0.25641026]\n",
      " [0.28205128]\n",
      " [0.30769231]\n",
      " [0.33333333]\n",
      " [0.35897436]\n",
      " [0.38461538]\n",
      " [0.41025641]\n",
      " [0.43589744]\n",
      " [0.46153846]\n",
      " [0.48717949]\n",
      " [0.51282051]\n",
      " [0.53846154]\n",
      " [0.56410256]\n",
      " [0.58974359]\n",
      " [0.61538462]\n",
      " [0.64102564]\n",
      " [0.66666667]\n",
      " [0.69230769]\n",
      " [0.71794872]\n",
      " [0.74358974]\n",
      " [0.76923077]\n",
      " [0.79487179]\n",
      " [0.82051282]\n",
      " [0.84615385]\n",
      " [0.87179487]\n",
      " [0.8974359 ]\n",
      " [0.92307692]\n",
      " [0.94871795]\n",
      " [0.97435897]\n",
      " [1.        ]]\n"
     ]
    }
   ],
   "source": [
    "print(mms.transform(data_train))"
   ]
  },
  {
   "cell_type": "code",
   "execution_count": 46,
   "metadata": {},
   "outputs": [],
   "source": [
    "test_transformed = mms.transform(data_test)"
   ]
  },
  {
   "cell_type": "code",
   "execution_count": 47,
   "metadata": {},
   "outputs": [
    {
     "data": {
      "text/plain": [
       "array([[0.        ],\n",
       "       [0.05128205],\n",
       "       [0.1025641 ],\n",
       "       [0.15384615],\n",
       "       [0.20512821],\n",
       "       [0.25641026],\n",
       "       [0.30769231],\n",
       "       [0.35897436],\n",
       "       [0.41025641],\n",
       "       [0.46153846]])"
      ]
     },
     "execution_count": 47,
     "metadata": {},
     "output_type": "execute_result"
    }
   ],
   "source": [
    "test_transformed"
   ]
  },
  {
   "cell_type": "code",
   "execution_count": null,
   "metadata": {},
   "outputs": [],
   "source": []
  },
  {
   "cell_type": "code",
   "execution_count": null,
   "metadata": {},
   "outputs": [],
   "source": []
  }
 ],
 "metadata": {
  "kernelspec": {
   "display_name": "Python 3",
   "language": "python",
   "name": "python3"
  },
  "language_info": {
   "codemirror_mode": {
    "name": "ipython",
    "version": 3
   },
   "file_extension": ".py",
   "mimetype": "text/x-python",
   "name": "python",
   "nbconvert_exporter": "python",
   "pygments_lexer": "ipython3",
   "version": "3.5.4"
  }
 },
 "nbformat": 4,
 "nbformat_minor": 2
}
