{
 "cells": [
  {
   "cell_type": "code",
   "execution_count": 2,
   "metadata": {},
   "outputs": [],
   "source": [
    "import numpy as np\n",
    "import statsmodels.api as sm\n",
    "import matplotlib.pyplot as plt\n",
    "\n",
    "np.random.seed(9876789)"
   ]
  },
  {
   "cell_type": "code",
   "execution_count": 6,
   "metadata": {},
   "outputs": [],
   "source": [
    "#Preparing artificial data\n",
    "nsample = 100\n",
    "x = np.linspace(0, 10, 100)\n",
    "X = np.column_stack((x, x**2))\n",
    "beta = np.array([1, 0.1, 10])\n",
    "e = np.random.normal(size=nsample)"
   ]
  },
  {
   "cell_type": "markdown",
   "metadata": {},
   "source": [
    "### OLS Estimation\n",
    "\n",
    "Adding the intercept that is needed by our model. "
   ]
  },
  {
   "cell_type": "code",
   "execution_count": 13,
   "metadata": {},
   "outputs": [],
   "source": [
    "X = sm.add_constant(X)\n",
    "y = np.dot(X, beta) + e"
   ]
  },
  {
   "cell_type": "code",
   "execution_count": 15,
   "metadata": {},
   "outputs": [
    {
     "data": {
      "text/plain": [
       "array([9.78669345e-01, 1.83507827e+00, 2.21711256e+00, 3.74983106e+00,\n",
       "       2.37635435e+00, 4.32156564e+00, 5.09831965e+00, 5.27527134e+00,\n",
       "       7.31295252e+00, 9.81448316e+00, 1.14309632e+01, 1.30837557e+01,\n",
       "       1.62562703e+01, 1.84041128e+01, 2.20822626e+01, 2.38949593e+01,\n",
       "       2.73905369e+01, 2.97747625e+01, 3.50875156e+01, 3.64464572e+01,\n",
       "       4.27118418e+01, 4.37501973e+01, 5.27162272e+01, 5.40087789e+01,\n",
       "       6.01557919e+01, 6.60126985e+01, 6.89705945e+01, 7.66601178e+01,\n",
       "       8.28202838e+01, 8.62150451e+01, 9.18221227e+01, 1.00298972e+02,\n",
       "       1.04653346e+02, 1.14817237e+02, 1.18912757e+02, 1.26701997e+02,\n",
       "       1.33364502e+02, 1.39700737e+02, 1.48929728e+02, 1.56038779e+02,\n",
       "       1.65402930e+02, 1.74020581e+02, 1.81418248e+02, 1.89150979e+02,\n",
       "       1.98614201e+02, 2.08809810e+02, 2.17214277e+02, 2.26162463e+02,\n",
       "       2.37857366e+02, 2.46947928e+02, 2.55863297e+02, 2.66992890e+02,\n",
       "       2.78443033e+02, 2.87299356e+02, 2.99812883e+02, 3.10459616e+02,\n",
       "       3.22151195e+02, 3.34438666e+02, 3.43508576e+02, 3.55330765e+02,\n",
       "       3.69001064e+02, 3.81678609e+02, 3.92471628e+02, 4.06309891e+02,\n",
       "       4.19997637e+02, 4.33999090e+02, 4.46698642e+02, 4.60903489e+02,\n",
       "       4.74101626e+02, 4.86727210e+02, 5.02859126e+02, 5.15457961e+02,\n",
       "       5.30176189e+02, 5.45362941e+02, 5.60017267e+02, 5.75078601e+02,\n",
       "       5.92377644e+02, 6.07740482e+02, 6.22344351e+02, 6.38920619e+02,\n",
       "       6.56192466e+02, 6.70840417e+02, 6.87656837e+02, 7.05816700e+02,\n",
       "       7.20754860e+02, 7.38975875e+02, 7.54916361e+02, 7.73866985e+02,\n",
       "       7.93148480e+02, 8.08418748e+02, 8.28341352e+02, 8.45706202e+02,\n",
       "       8.63520489e+02, 8.84248576e+02, 9.04401506e+02, 9.23003570e+02,\n",
       "       9.42421308e+02, 9.61864010e+02, 9.82908426e+02, 1.00190123e+03])"
      ]
     },
     "execution_count": 15,
     "metadata": {},
     "output_type": "execute_result"
    }
   ],
   "source": [
    "y"
   ]
  },
  {
   "cell_type": "code",
   "execution_count": 9,
   "metadata": {},
   "outputs": [
    {
     "name": "stdout",
     "output_type": "stream",
     "text": [
      "                            OLS Regression Results                            \n",
      "==============================================================================\n",
      "Dep. Variable:                      y   R-squared:                       1.000\n",
      "Model:                            OLS   Adj. R-squared:                  1.000\n",
      "Method:                 Least Squares   F-statistic:                 7.665e+06\n",
      "Date:                Sat, 06 Apr 2019   Prob (F-statistic):          3.01e-255\n",
      "Time:                        19:38:34   Log-Likelihood:                -155.21\n",
      "No. Observations:                 100   AIC:                             314.4\n",
      "Df Residuals:                      98   BIC:                             319.6\n",
      "Df Model:                           2                                         \n",
      "Covariance Type:            nonrobust                                         \n",
      "==============================================================================\n",
      "                 coef    std err          t      P>|t|      [0.025      0.975]\n",
      "------------------------------------------------------------------------------\n",
      "x1             0.4940      0.080      6.193      0.000       0.336       0.652\n",
      "x2             9.9660      0.010    972.766      0.000       9.946       9.986\n",
      "==============================================================================\n",
      "Omnibus:                        2.416   Durbin-Watson:                   1.910\n",
      "Prob(Omnibus):                  0.299   Jarque-Bera (JB):                2.091\n",
      "Skew:                           0.354   Prob(JB):                        0.351\n",
      "Kurtosis:                       3.039   Cond. No.                         31.6\n",
      "==============================================================================\n",
      "\n",
      "Warnings:\n",
      "[1] Standard Errors assume that the covariance matrix of the errors is correctly specified.\n"
     ]
    }
   ],
   "source": [
    "#Training the model\n",
    "model = sm.OLS(y, X)\n",
    "results = model.fit()\n",
    "print(results.summary())"
   ]
  },
  {
   "cell_type": "code",
   "execution_count": 10,
   "metadata": {},
   "outputs": [
    {
     "name": "stdout",
     "output_type": "stream",
     "text": [
      "Parameters:  [0.49396394 9.9659595 ]\n",
      "R2:  0.9999936071798022\n"
     ]
    }
   ],
   "source": [
    "#Extracting the quantities\n",
    "print('Parameters: ', results.params)\n",
    "print('R2: ', results.rsquared)"
   ]
  },
  {
   "cell_type": "code",
   "execution_count": null,
   "metadata": {},
   "outputs": [],
   "source": []
  },
  {
   "cell_type": "code",
   "execution_count": null,
   "metadata": {},
   "outputs": [],
   "source": []
  }
 ],
 "metadata": {
  "kernelspec": {
   "display_name": "Python 3",
   "language": "python",
   "name": "python3"
  },
  "language_info": {
   "codemirror_mode": {
    "name": "ipython",
    "version": 3
   },
   "file_extension": ".py",
   "mimetype": "text/x-python",
   "name": "python",
   "nbconvert_exporter": "python",
   "pygments_lexer": "ipython3",
   "version": "3.5.4"
  }
 },
 "nbformat": 4,
 "nbformat_minor": 2
}
